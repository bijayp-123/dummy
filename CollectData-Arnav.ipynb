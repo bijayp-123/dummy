{
 "cells": [
  {
   "cell_type": "markdown",
   "metadata": {
    "id": "rncmkfJTVc6W"
   },
   "source": [
    "### Important packages"
   ]
  },
  {
   "cell_type": "code",
   "execution_count": 1,
   "metadata": {
    "colab": {
     "base_uri": "https://localhost:8080/"
    },
    "id": "W_mcz4W0bdc4",
    "outputId": "195445f3-ba89-4b3e-a518-7a1bb3331dc5"
   },
   "outputs": [
    {
     "name": "stdout",
     "output_type": "stream",
     "text": [
      "Requirement already satisfied: billboard.py in e:\\anaconda3\\lib\\site-packages (7.0.0)\n",
      "Requirement already satisfied: requests>=2.2.1 in e:\\anaconda3\\lib\\site-packages (from billboard.py) (2.26.0)\n",
      "Requirement already satisfied: beautifulsoup4>=4.4.1 in e:\\anaconda3\\lib\\site-packages (from billboard.py) (4.10.0)\n",
      "Requirement already satisfied: soupsieve>1.2 in e:\\anaconda3\\lib\\site-packages (from beautifulsoup4>=4.4.1->billboard.py) (2.2.1)\n",
      "Requirement already satisfied: charset-normalizer~=2.0.0 in e:\\anaconda3\\lib\\site-packages (from requests>=2.2.1->billboard.py) (2.0.4)\n",
      "Requirement already satisfied: certifi>=2017.4.17 in e:\\anaconda3\\lib\\site-packages (from requests>=2.2.1->billboard.py) (2021.10.8)\n",
      "Requirement already satisfied: idna<4,>=2.5 in e:\\anaconda3\\lib\\site-packages (from requests>=2.2.1->billboard.py) (3.2)\n",
      "Requirement already satisfied: urllib3<1.27,>=1.21.1 in e:\\anaconda3\\lib\\site-packages (from requests>=2.2.1->billboard.py) (1.26.7)\n",
      "Note: you may need to restart the kernel to use updated packages.\n"
     ]
    }
   ],
   "source": [
    "pip install billboard.py"
   ]
  },
  {
   "cell_type": "code",
   "execution_count": 2,
   "metadata": {
    "id": "jKkdLxPYVc6k"
   },
   "outputs": [],
   "source": [
    "# billboard to load data from Billboard.com\n",
    "import billboard\n",
    "# pandas to convert data into DataFrame\n",
    "import pandas as pd "
   ]
  },
  {
   "cell_type": "markdown",
   "metadata": {
    "id": "B_YcG58YVc6o"
   },
   "source": [
    "### Get top 10 artists from 2006 to 2021 \n",
    "- `artists:` top 10 artists in all years.\n",
    "- `year:` to use it when loading songs.\n",
    "- `cnt:` to stop itration when we get top 10 every year.\n",
    "- `chart:` data from Billboard which include artists names and title of songs "
   ]
  },
  {
   "cell_type": "code",
   "execution_count": 3,
   "metadata": {
    "colab": {
     "base_uri": "https://localhost:8080/"
    },
    "id": "9RLmW1INVc6q",
    "outputId": "f03db8d9-061f-432e-8bcb-b78bde6f7ec5"
   },
   "outputs": [
    {
     "data": {
      "text/plain": [
       "80"
      ]
     },
     "execution_count": 3,
     "metadata": {},
     "output_type": "execute_result"
    }
   ],
   "source": [
    "artists = []\n",
    "year = 2021\n",
    "for y in range(2022-2006):\n",
    "    chart = billboard.ChartData('Top-Artists', year=year)\n",
    "    cnt = 0\n",
    "    for chr in chart:\n",
    "        cnt += 1\n",
    "        if chr.artist not in artists:\n",
    "                artists.append(chr.artist)\n",
    "        if cnt == 10:\n",
    "            break\n",
    "    \n",
    "    year -= 1\n",
    "\n",
    "len(artists)"
   ]
  },
  {
   "cell_type": "markdown",
   "metadata": {
    "id": "rkw_ZrtmVc6v"
   },
   "source": [
    "### Make a method to load data from Billboard\n",
    "<b>prameters: </b>\n",
    "- `type:` type of chart we get from Billboard.\n",
    "- `data:` list of dictionary we collocet data into.\n",
    "- `artists:` list of artists names.\n",
    "- `titles:` list of songs name use it to avoid repeat songs.\n",
    "- `year:` use it when collect popular data.\n",
    "- `date:` use it when collect unpopular data.\n",
    "- `year:` use it when collect popular data.\n",
    "- `label:` 1 if popular and 0 if unpopular."
   ]
  },
  {
   "cell_type": "code",
   "execution_count": 4,
   "metadata": {
    "id": "PXBjvDeXVc6w"
   },
   "outputs": [],
   "source": [
    "def getData(type, data, artists, titles, year=None, date=None, label=None):\n",
    "    if date==None:\n",
    "        HotChart = billboard.ChartData(type, year=year)\n",
    "    else:\n",
    "        HotChart = billboard.ChartData(type, date=date)\n",
    "    for hot in HotChart:\n",
    "        # To collect the name of artists that exists in the artist's list and choose another song for the same artist.\n",
    "        # This is to avoid repeat songs and enter artist doesn't exist in artists list.\n",
    "        if hot.title not in titles and hot.artist in artists:\n",
    "                titles.append(hot.title)\n",
    "                data.append({'Artist': hot.artist, 'Title': hot.title, 'Label': label})\n",
    "    \n",
    "    return data, titles"
   ]
  },
  {
   "cell_type": "markdown",
   "metadata": {
    "id": "WK4xX1s2Vc61"
   },
   "source": [
    "### Here we collect popular data from 2006 to 2021"
   ]
  },
  {
   "cell_type": "code",
   "execution_count": 5,
   "metadata": {
    "id": "wj1Y0qq1Vc63"
   },
   "outputs": [],
   "source": [
    "data = []\n",
    "titles = []\n",
    "year = 2021\n",
    "for i in range(2022-2006):\n",
    "    data, titles = getData('Hot-100-Songs', data, artists, titles, year, label=1) # popular songs\n",
    "    year -= 1"
   ]
  },
  {
   "cell_type": "code",
   "execution_count": 6,
   "metadata": {
    "colab": {
     "base_uri": "https://localhost:8080/"
    },
    "id": "O9ug45eIVc7I",
    "outputId": "605a8694-71d5-4413-973a-4758d6c78b97"
   },
   "outputs": [
    {
     "name": "stdout",
     "output_type": "stream",
     "text": [
      "403\n",
      "80\n",
      "403\n"
     ]
    }
   ],
   "source": [
    "print(len(data))\n",
    "print(len(artists))\n",
    "print(len(titles))"
   ]
  },
  {
   "cell_type": "markdown",
   "metadata": {
    "id": "SJcaHipiVc7K"
   },
   "source": [
    "### Here I collect popular data from 2006 to 2021 I use another songs that I don't use in popular data\n",
    "I split the year into 4 splits to get a lot of songs with the same artists which I choose and used the same techniques for every year."
   ]
  },
  {
   "cell_type": "code",
   "execution_count": 7,
   "metadata": {
    "id": "HhC5IeDHVc7M"
   },
   "outputs": [],
   "source": [
    "dates = ['2021-12-01','2021-08-01','2021-04-01','2021-01-01',\n",
    "        '2020-12-01','2020-08-01','2020-04-01','2020-01-01',\n",
    "        '2019-12-01','2019-08-01','2019-04-01','2019-01-01',\n",
    "        '2018-12-01','2018-08-01','2018-04-01','2018-01-01',\n",
    "        '2017-12-01','2017-08-01','2017-04-01','2017-01-01',\n",
    "        '2016-12-01','2016-08-01','2016-04-01','2016-01-01',\n",
    "        '2015-12-01','2015-08-01','2015-04-01','2015-01-01',\n",
    "        '2014-12-01','2014-08-01','2014-04-01','2014-01-01',\n",
    "        '2013-12-01','2013-08-01','2013-04-01','2013-01-01',\n",
    "        '2012-12-01','2012-08-01','2012-04-01','2012-01-01',\n",
    "        '2011-12-01','2011-08-01','2011-04-01','2011-01-01',\n",
    "        '2010-12-01','2010-08-01','2010-04-01','2010-01-01',\n",
    "        '2009-12-01','2009-08-01','2009-04-01','2009-01-01',\n",
    "        '2008-12-01','2008-08-01','2008-04-01','2008-01-01',\n",
    "        '2007-12-01','2007-08-01','2007-04-01','2007-01-01',\n",
    "        '2006-12-01','2006-08-01','2006-04-01','2006-01-01']\n",
    "for date in dates:\n",
    "    data, titles = getData('hot-100', data, artists, titles, date=date, label=0) # unpopular songs"
   ]
  },
  {
   "cell_type": "code",
   "execution_count": 8,
   "metadata": {
    "colab": {
     "base_uri": "https://localhost:8080/"
    },
    "id": "ce0C3ZA7Vc7O",
    "outputId": "ee10f410-6e9d-4f3f-95f3-b061b17a6a57"
   },
   "outputs": [
    {
     "name": "stdout",
     "output_type": "stream",
     "text": [
      "809\n",
      "80\n",
      "809\n"
     ]
    }
   ],
   "source": [
    "print(len(data))\n",
    "print(len(artists))\n",
    "print(len(titles))"
   ]
  },
  {
   "cell_type": "markdown",
   "metadata": {
    "id": "wgaK5IYsVc7P"
   },
   "source": [
    "### Convert data to dataframe by using pandas"
   ]
  },
  {
   "cell_type": "code",
   "execution_count": 9,
   "metadata": {
    "colab": {
     "base_uri": "https://localhost:8080/",
     "height": 655
    },
    "id": "UdL0aWmfVc7Q",
    "outputId": "4a2e3dd4-405c-4a43-df0b-8f7fa66ff16c"
   },
   "outputs": [
    {
     "data": {
      "text/html": [
       "<div>\n",
       "<style scoped>\n",
       "    .dataframe tbody tr th:only-of-type {\n",
       "        vertical-align: middle;\n",
       "    }\n",
       "\n",
       "    .dataframe tbody tr th {\n",
       "        vertical-align: top;\n",
       "    }\n",
       "\n",
       "    .dataframe thead th {\n",
       "        text-align: right;\n",
       "    }\n",
       "</style>\n",
       "<table border=\"1\" class=\"dataframe\">\n",
       "  <thead>\n",
       "    <tr style=\"text-align: right;\">\n",
       "      <th></th>\n",
       "      <th>Artist</th>\n",
       "      <th>Title</th>\n",
       "      <th>Label</th>\n",
       "    </tr>\n",
       "  </thead>\n",
       "  <tbody>\n",
       "    <tr>\n",
       "      <th>0</th>\n",
       "      <td>The Weeknd</td>\n",
       "      <td>Blinding Lights</td>\n",
       "      <td>1</td>\n",
       "    </tr>\n",
       "    <tr>\n",
       "      <th>1</th>\n",
       "      <td>Olivia Rodrigo</td>\n",
       "      <td>Good 4 U</td>\n",
       "      <td>1</td>\n",
       "    </tr>\n",
       "    <tr>\n",
       "      <th>2</th>\n",
       "      <td>Olivia Rodrigo</td>\n",
       "      <td>Drivers License</td>\n",
       "      <td>1</td>\n",
       "    </tr>\n",
       "    <tr>\n",
       "      <th>3</th>\n",
       "      <td>Lil Nas X</td>\n",
       "      <td>Montero (Call Me By Your Name)</td>\n",
       "      <td>1</td>\n",
       "    </tr>\n",
       "    <tr>\n",
       "      <th>4</th>\n",
       "      <td>BTS</td>\n",
       "      <td>Butter</td>\n",
       "      <td>1</td>\n",
       "    </tr>\n",
       "    <tr>\n",
       "      <th>...</th>\n",
       "      <td>...</td>\n",
       "      <td>...</td>\n",
       "      <td>...</td>\n",
       "    </tr>\n",
       "    <tr>\n",
       "      <th>804</th>\n",
       "      <td>Gwen Stefani</td>\n",
       "      <td>Luxurious</td>\n",
       "      <td>0</td>\n",
       "    </tr>\n",
       "    <tr>\n",
       "      <th>805</th>\n",
       "      <td>Rihanna</td>\n",
       "      <td>If It's Lovin' That You Want</td>\n",
       "      <td>0</td>\n",
       "    </tr>\n",
       "    <tr>\n",
       "      <th>806</th>\n",
       "      <td>Lil Wayne</td>\n",
       "      <td>Fireman</td>\n",
       "      <td>0</td>\n",
       "    </tr>\n",
       "    <tr>\n",
       "      <th>807</th>\n",
       "      <td>Alicia Keys</td>\n",
       "      <td>Unbreakable</td>\n",
       "      <td>0</td>\n",
       "    </tr>\n",
       "    <tr>\n",
       "      <th>808</th>\n",
       "      <td>Rascal Flatts</td>\n",
       "      <td>Skin (Sarabeth)</td>\n",
       "      <td>0</td>\n",
       "    </tr>\n",
       "  </tbody>\n",
       "</table>\n",
       "<p>809 rows × 3 columns</p>\n",
       "</div>"
      ],
      "text/plain": [
       "             Artist                           Title  Label\n",
       "0        The Weeknd                 Blinding Lights      1\n",
       "1    Olivia Rodrigo                        Good 4 U      1\n",
       "2    Olivia Rodrigo                 Drivers License      1\n",
       "3         Lil Nas X  Montero (Call Me By Your Name)      1\n",
       "4               BTS                          Butter      1\n",
       "..              ...                             ...    ...\n",
       "804    Gwen Stefani                       Luxurious      0\n",
       "805         Rihanna    If It's Lovin' That You Want      0\n",
       "806       Lil Wayne                         Fireman      0\n",
       "807     Alicia Keys                     Unbreakable      0\n",
       "808   Rascal Flatts                 Skin (Sarabeth)      0\n",
       "\n",
       "[809 rows x 3 columns]"
      ]
     },
     "execution_count": 9,
     "metadata": {},
     "output_type": "execute_result"
    }
   ],
   "source": [
    "df = pd.DataFrame(data)\n",
    "df"
   ]
  },
  {
   "cell_type": "markdown",
   "metadata": {
    "id": "ykDjSc9_Vc7V"
   },
   "source": [
    "### Save data as csv file"
   ]
  },
  {
   "cell_type": "code",
   "execution_count": 10,
   "metadata": {
    "id": "2K4yaw_aVc7Y"
   },
   "outputs": [],
   "source": [
    "df.to_csv('Billboard1.csv', index=False)"
   ]
  },
  {
   "cell_type": "code",
   "execution_count": 11,
   "metadata": {
    "colab": {
     "base_uri": "https://localhost:8080/",
     "height": 424
    },
    "id": "Dxxq03tAVc7Z",
    "outputId": "00e617f1-087a-454b-a76b-73c0033de716"
   },
   "outputs": [
    {
     "data": {
      "text/html": [
       "<div>\n",
       "<style scoped>\n",
       "    .dataframe tbody tr th:only-of-type {\n",
       "        vertical-align: middle;\n",
       "    }\n",
       "\n",
       "    .dataframe tbody tr th {\n",
       "        vertical-align: top;\n",
       "    }\n",
       "\n",
       "    .dataframe thead th {\n",
       "        text-align: right;\n",
       "    }\n",
       "</style>\n",
       "<table border=\"1\" class=\"dataframe\">\n",
       "  <thead>\n",
       "    <tr style=\"text-align: right;\">\n",
       "      <th></th>\n",
       "      <th>Artist</th>\n",
       "      <th>Title</th>\n",
       "      <th>Label</th>\n",
       "    </tr>\n",
       "  </thead>\n",
       "  <tbody>\n",
       "    <tr>\n",
       "      <th>0</th>\n",
       "      <td>The Weeknd</td>\n",
       "      <td>Blinding Lights</td>\n",
       "      <td>1</td>\n",
       "    </tr>\n",
       "    <tr>\n",
       "      <th>1</th>\n",
       "      <td>Olivia Rodrigo</td>\n",
       "      <td>Good 4 U</td>\n",
       "      <td>1</td>\n",
       "    </tr>\n",
       "    <tr>\n",
       "      <th>2</th>\n",
       "      <td>Olivia Rodrigo</td>\n",
       "      <td>Drivers License</td>\n",
       "      <td>1</td>\n",
       "    </tr>\n",
       "    <tr>\n",
       "      <th>3</th>\n",
       "      <td>Lil Nas X</td>\n",
       "      <td>Montero (Call Me By Your Name)</td>\n",
       "      <td>1</td>\n",
       "    </tr>\n",
       "    <tr>\n",
       "      <th>4</th>\n",
       "      <td>BTS</td>\n",
       "      <td>Butter</td>\n",
       "      <td>1</td>\n",
       "    </tr>\n",
       "    <tr>\n",
       "      <th>...</th>\n",
       "      <td>...</td>\n",
       "      <td>...</td>\n",
       "      <td>...</td>\n",
       "    </tr>\n",
       "    <tr>\n",
       "      <th>804</th>\n",
       "      <td>Gwen Stefani</td>\n",
       "      <td>Luxurious</td>\n",
       "      <td>0</td>\n",
       "    </tr>\n",
       "    <tr>\n",
       "      <th>805</th>\n",
       "      <td>Rihanna</td>\n",
       "      <td>If It's Lovin' That You Want</td>\n",
       "      <td>0</td>\n",
       "    </tr>\n",
       "    <tr>\n",
       "      <th>806</th>\n",
       "      <td>Lil Wayne</td>\n",
       "      <td>Fireman</td>\n",
       "      <td>0</td>\n",
       "    </tr>\n",
       "    <tr>\n",
       "      <th>807</th>\n",
       "      <td>Alicia Keys</td>\n",
       "      <td>Unbreakable</td>\n",
       "      <td>0</td>\n",
       "    </tr>\n",
       "    <tr>\n",
       "      <th>808</th>\n",
       "      <td>Rascal Flatts</td>\n",
       "      <td>Skin (Sarabeth)</td>\n",
       "      <td>0</td>\n",
       "    </tr>\n",
       "  </tbody>\n",
       "</table>\n",
       "<p>809 rows × 3 columns</p>\n",
       "</div>"
      ],
      "text/plain": [
       "             Artist                           Title  Label\n",
       "0        The Weeknd                 Blinding Lights      1\n",
       "1    Olivia Rodrigo                        Good 4 U      1\n",
       "2    Olivia Rodrigo                 Drivers License      1\n",
       "3         Lil Nas X  Montero (Call Me By Your Name)      1\n",
       "4               BTS                          Butter      1\n",
       "..              ...                             ...    ...\n",
       "804    Gwen Stefani                       Luxurious      0\n",
       "805         Rihanna    If It's Lovin' That You Want      0\n",
       "806       Lil Wayne                         Fireman      0\n",
       "807     Alicia Keys                     Unbreakable      0\n",
       "808   Rascal Flatts                 Skin (Sarabeth)      0\n",
       "\n",
       "[809 rows x 3 columns]"
      ]
     },
     "execution_count": 11,
     "metadata": {},
     "output_type": "execute_result"
    }
   ],
   "source": [
    "dataset = pd.read_csv('Billboard1.csv')\n",
    "dataset"
   ]
  },
  {
   "cell_type": "code",
   "execution_count": null,
   "metadata": {},
   "outputs": [],
   "source": []
  }
 ],
 "metadata": {
  "colab": {
   "name": "CollectData.ipynb",
   "provenance": []
  },
  "interpreter": {
   "hash": "06d551a9c38e3c9226fb791b081d443165cdefd6b8907d1070492d8de0992181"
  },
  "kernelspec": {
   "display_name": "Python 3 (ipykernel)",
   "language": "python",
   "name": "python3"
  },
  "language_info": {
   "codemirror_mode": {
    "name": "ipython",
    "version": 3
   },
   "file_extension": ".py",
   "mimetype": "text/x-python",
   "name": "python",
   "nbconvert_exporter": "python",
   "pygments_lexer": "ipython3",
   "version": "3.9.7"
  }
 },
 "nbformat": 4,
 "nbformat_minor": 1
}
